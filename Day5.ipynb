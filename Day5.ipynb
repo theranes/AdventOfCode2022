{
 "cells": [
  {
   "cell_type": "code",
   "execution_count": 271,
   "metadata": {},
   "outputs": [
    {
     "name": "stdout",
     "output_type": "stream",
     "text": [
      "The order of the top crates after executing the moving list with the CrateMover 9000 is: TQRFCBSJJ\n",
      "The order of the top crates after executing the moving list with the CrateMover 9001 is: RMHFJNVFP\n"
     ]
    }
   ],
   "source": [
    "import pandas as pd\n",
    "from pathlib import Path\n",
    "txt = Path('Input/day5.txt').read_text().replace('[','')\n",
    "instruction_list=txt.split('\\n')[10:-1]\n",
    "colspecs = [(0, 2), (4, 6), (8, 10), (12, 14), (16, 18), (20, 22), (24,26), (28,30), (32,34)]\n",
    "crates=pd.read_fwf('Input/day5.txt',colspecs=colspecs,names=range(1,10),index_col=False)[:8]\n",
    "crates=crates.replace('\\[','',regex=True)\n",
    "crates=crates.reindex(index=crates.index[::-1]).transpose().values.tolist()\n",
    "crates=[[x for x in row if str(x) != 'nan'] for row in crates]\n",
    "ocrates=[[x for x in row if str(x) != 'nan'] for row in crates]\n",
    "def movecrates(instruction,cranetype):\n",
    "        #print('crates before moving: '+str(crates))\n",
    "        reps = int(instruction[5:5+instruction[5:].find(' ')])\n",
    "        #print('reps:'+str(reps+1))\n",
    "        start= int(instruction[instruction.find('from')+4:instruction.find('to')].strip())-1\n",
    "        #print('start:'+str(start+1))\n",
    "        end=int(instruction[instruction.find('to')+2:].strip())-1\n",
    "        #print('end:'+str(end+1))\n",
    "        #print('origin column before move: '+str(crates[start]))\n",
    "        #print('destination column before move: '+str(crates[end]))\n",
    "        beingmoved=crates[start][-reps:]\n",
    "        if cranetype=='CrateMover 9000':\n",
    "            beingmoved.reverse()\n",
    "        #print('being moved:'+str(beingmoved))\n",
    "        crates[start]=crates[start][:-reps]\n",
    "        crates[end]=crates[end]+beingmoved\n",
    "        #print('origin column after move: '+str(crates[start]))\n",
    "        #print('destination column after move: '+str(crates[end]))\n",
    "for instr in instruction_list:\n",
    "    movecrates(instr,'CrateMover 9000')\n",
    "result_a=''.join([item[-1] for item in crates])\n",
    "print('The order of the top crates after executing the moving list with the CrateMover 9000 is: '+result_a)\n",
    "crates=ocrates\n",
    "for instr in instruction_list:\n",
    "    movecrates(instr,'CrateMover 9001')\n",
    "result_b=''.join([item[-1] for item in crates])\n",
    "print('The order of the top crates after executing the moving list with the CrateMover 9001 is: '+result_b)"
   ]
  },
  {
   "cell_type": "code",
   "execution_count": null,
   "metadata": {},
   "outputs": [],
   "source": []
  }
 ],
 "metadata": {
  "kernelspec": {
   "display_name": "Python 3",
   "language": "python",
   "name": "python3"
  },
  "language_info": {
   "codemirror_mode": {
    "name": "ipython",
    "version": 3
   },
   "file_extension": ".py",
   "mimetype": "text/x-python",
   "name": "python",
   "nbconvert_exporter": "python",
   "pygments_lexer": "ipython3",
   "version": "3.7.6"
  }
 },
 "nbformat": 4,
 "nbformat_minor": 4
}
