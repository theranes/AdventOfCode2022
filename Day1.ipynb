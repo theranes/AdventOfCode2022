{
 "cells": [
  {
   "cell_type": "code",
   "execution_count": 150,
   "metadata": {},
   "outputs": [
    {
     "name": "stdout",
     "output_type": "stream",
     "text": [
      "The elf carring the most calories is carrying 69626 calories\n"
     ]
    }
   ],
   "source": [
    "from pathlib import Path\n",
    "txt = Path('Input/day1.txt').read_text()\n",
    "list_text=txt.split('\\n\\n')\n",
    "list_text=[item.split('\\n') for item in list_text]\n",
    "list_text[-1][-1]=0\n",
    "list_num=[[int(float(item)) for item in line] for line in list_text]\n",
    "list_sums=[sum(line) for line in list_num]\n",
    "result=max(list_sums)\n",
    "print('The elf carring the most calories is carrying '+str(result)+' calories')"
   ]
  },
  {
   "cell_type": "code",
   "execution_count": null,
   "metadata": {},
   "outputs": [],
   "source": []
  }
 ],
 "metadata": {
  "kernelspec": {
   "display_name": "Python 3",
   "language": "python",
   "name": "python3"
  },
  "language_info": {
   "codemirror_mode": {
    "name": "ipython",
    "version": 3
   },
   "file_extension": ".py",
   "mimetype": "text/x-python",
   "name": "python",
   "nbconvert_exporter": "python",
   "pygments_lexer": "ipython3",
   "version": "3.7.6"
  }
 },
 "nbformat": 4,
 "nbformat_minor": 4
}
