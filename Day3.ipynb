{
 "cells": [
  {
   "cell_type": "code",
   "execution_count": 62,
   "metadata": {},
   "outputs": [
    {
     "name": "stdout",
     "output_type": "stream",
     "text": [
      "The sum of the priorities of the items appearing in both compartments is: 7553\n"
     ]
    }
   ],
   "source": [
    "import pandas as pd\n",
    "from pathlib import Path\n",
    "txt = Path('Input/day3.txt').read_text()\n",
    "list_text=txt.split('\\n')[:-1]\n",
    "left=[item[:int(len(item)/2)] for item in list_text]\n",
    "right=[item[int(len(item)/2):]for item in list_text]\n",
    "matching_letters=[item.join(set(left[i]).intersection(right[i])) for i,item in enumerate(left)]\n",
    "import string\n",
    "abc = list(string.ascii_lowercase)+list(string.ascii_uppercase)\n",
    "matching_scores=[abc.index(item)+1 for item in matching_letters]\n",
    "result=sum(matching_scores)\n",
    "print('The sum of the priorities of the items appearing in both compartments is: '+str(result))"
   ]
  },
  {
   "cell_type": "code",
   "execution_count": 155,
   "metadata": {},
   "outputs": [
    {
     "name": "stdout",
     "output_type": "stream",
     "text": [
      "The sum of the priorities of the item types that correspond to the badges of each three-Elf group is: 2758\n"
     ]
    }
   ],
   "source": [
    "list_threes=[list_text[i:i + 3] for i in range(0, len(list_text), 3)]\n",
    "def str_union(str1,str2,str3):\n",
    "    s1=s.join(set(str1).intersection(str2))\n",
    "    return s.join(set(s1).intersection(str3))\n",
    "matching_threes=[str_union(s1,s2,s3) for s1,s2,s3 in list_threes]\n",
    "matching_threes_scores=[abc.index(item)+1 for item in matching_threes]\n",
    "result2=sum(matching_threes_scores)\n",
    "print('The sum of the priorities of the item types that correspond to the badges of each three-Elf group is: '+str(result2))"
   ]
  },
  {
   "cell_type": "code",
   "execution_count": 154,
   "metadata": {},
   "outputs": [
    {
     "data": {
      "text/plain": [
       "2758"
      ]
     },
     "execution_count": 154,
     "metadata": {},
     "output_type": "execute_result"
    }
   ],
   "source": [
    "result2"
   ]
  },
  {
   "cell_type": "code",
   "execution_count": 150,
   "metadata": {},
   "outputs": [
    {
     "data": {
      "text/plain": [
       "['P',\n",
       " 'n',\n",
       " 'P',\n",
       " 'h',\n",
       " 'm',\n",
       " 'W',\n",
       " 'b',\n",
       " 't',\n",
       " 'P',\n",
       " 'Z',\n",
       " 's',\n",
       " 'S',\n",
       " 'V',\n",
       " 'M',\n",
       " 'w',\n",
       " 'Q',\n",
       " 'Q',\n",
       " 'p',\n",
       " 'F',\n",
       " 'm',\n",
       " 'f',\n",
       " 'Q',\n",
       " 'C',\n",
       " 'l',\n",
       " 'f',\n",
       " 'v',\n",
       " 'j',\n",
       " 'J',\n",
       " 'l',\n",
       " 'G',\n",
       " 'B',\n",
       " 'L',\n",
       " 'w',\n",
       " 'z',\n",
       " 'n',\n",
       " 'B',\n",
       " 'p',\n",
       " 'Q',\n",
       " 'Q',\n",
       " 'z',\n",
       " 'l',\n",
       " 'j',\n",
       " 's',\n",
       " 'H',\n",
       " 'd',\n",
       " 'W',\n",
       " 'S',\n",
       " 'p',\n",
       " 'p',\n",
       " 'J',\n",
       " 'M',\n",
       " 'L',\n",
       " 'w',\n",
       " 'p',\n",
       " 'g',\n",
       " 'T',\n",
       " 'L',\n",
       " 'q',\n",
       " 'R',\n",
       " 'l',\n",
       " 'd',\n",
       " 'V',\n",
       " 'd',\n",
       " 'm',\n",
       " 'm',\n",
       " 'Q',\n",
       " 'R',\n",
       " 'W',\n",
       " 'q',\n",
       " 'q',\n",
       " 'R',\n",
       " 'M',\n",
       " 'N',\n",
       " 'W',\n",
       " 's',\n",
       " 'D',\n",
       " 'd',\n",
       " 'H',\n",
       " 'B',\n",
       " 'Z',\n",
       " 'l',\n",
       " 'R',\n",
       " 'G',\n",
       " 'T',\n",
       " 'v',\n",
       " 'B',\n",
       " 'D',\n",
       " 'H',\n",
       " 'm',\n",
       " 'r',\n",
       " 'B',\n",
       " 'T',\n",
       " 'n',\n",
       " 'h',\n",
       " 'g',\n",
       " 'C',\n",
       " 'j',\n",
       " 'V',\n",
       " 'B',\n",
       " 'W']"
      ]
     },
     "execution_count": 150,
     "metadata": {},
     "output_type": "execute_result"
    }
   ],
   "source": [
    "matching_threes"
   ]
  },
  {
   "cell_type": "code",
   "execution_count": 142,
   "metadata": {},
   "outputs": [
    {
     "data": {
      "text/plain": [
       "'NlnCZ'"
      ]
     },
     "execution_count": 142,
     "metadata": {},
     "output_type": "execute_result"
    }
   ],
   "source": [
    "i12.join(set(list_threes[i][0]).intersection(list_threes[i][1]))"
   ]
  },
  {
   "cell_type": "code",
   "execution_count": 147,
   "metadata": {},
   "outputs": [],
   "source": []
  },
  {
   "cell_type": "code",
   "execution_count": 148,
   "metadata": {},
   "outputs": [
    {
     "data": {
      "text/plain": [
       "'n'"
      ]
     },
     "execution_count": 148,
     "metadata": {},
     "output_type": "execute_result"
    }
   ],
   "source": [
    "str_union(list_threes[i][0],list_threes[i][1],list_threes[i][2])"
   ]
  },
  {
   "cell_type": "code",
   "execution_count": null,
   "metadata": {},
   "outputs": [],
   "source": []
  }
 ],
 "metadata": {
  "kernelspec": {
   "display_name": "Python 3",
   "language": "python",
   "name": "python3"
  },
  "language_info": {
   "codemirror_mode": {
    "name": "ipython",
    "version": 3
   },
   "file_extension": ".py",
   "mimetype": "text/x-python",
   "name": "python",
   "nbconvert_exporter": "python",
   "pygments_lexer": "ipython3",
   "version": "3.7.6"
  }
 },
 "nbformat": 4,
 "nbformat_minor": 4
}
