{
 "cells": [
  {
   "cell_type": "code",
   "execution_count": 87,
   "metadata": {},
   "outputs": [],
   "source": [
    "from pathlib import Path\n",
    "import pandas as pd\n",
    "txt = Path('Input/day11.txt').read_text().split('\\n')[:-1]\n",
    "def readindata():\n",
    "    monkey_df=pd.DataFrame()\n",
    "    monkey_id=0\n",
    "    for i,line in enumerate(txt):\n",
    "        if i%7==1:\n",
    "            monkey_df.loc[monkey_id,'items']=line[18:]\n",
    "        elif i%7==2:\n",
    "            monkey_df.loc[monkey_id,'operation']=line[22:]\n",
    "        elif i%7==3:\n",
    "            monkey_df.loc[monkey_id,'test_divisor']=line[21:]\n",
    "        elif i%7==4:\n",
    "            monkey_df.loc[monkey_id,'true_target']=line[29:]\n",
    "        elif i%7==5:\n",
    "            monkey_df.loc[monkey_id,'false_target']=line[30:]\n",
    "        elif i%7==6:\n",
    "            monkey_id+=1\n",
    "    monkey_df.loc[:,'inspections']=0\n",
    "    return monkey_df\n",
    "\n",
    "def monkey_throw(id,dontworry):\n",
    "    for item in monkey_df.loc[id,'items'].split(','):\n",
    "        if item=='': continue\n",
    "        monkey_df.loc[id,'inspections']+=1\n",
    "        old=int(item)\n",
    "        new=eval(str(old)+monkey_df.loc[id,'operation'])\n",
    "        if dontworry:\n",
    "            new=new//3\n",
    "        if new%int(monkey_df.loc[id,'test_divisor'])==0:\n",
    "            target=int(monkey_df.loc[id,'true_target'])\n",
    "             #new=getlowest(id,True)\n",
    "        else:\n",
    "            target=int(monkey_df.loc[id,'false_target'])\n",
    "            #new=getlowest(id,False)\n",
    "        monkey_df.loc[target,'items']+=','+str(new%9699690)\n",
    "        #print(str(old)+monkey_df.loc[id,'operation']+\"=\"+str(eval(str(old)+monkey_df.loc[id,'operation']))+\"//3=\"+str(new)+' %'+str(monkey_df.loc[id,'test_divisor'])+'='+str(new%int(monkey_df.loc[id,'test_divisor'])==0)+\": ->\"+str(target))\n",
    "    monkey_df.loc[id,'items']=''\n",
    "\n",
    "def monkey_round(dontworry):\n",
    "    for monkey in range(8):\n",
    "        monkey_throw(monkey,dontworry)\n",
    "\n",
    "def monkey_rounds(rep,dontworry):\n",
    "    for round in range(rep):\n",
    "        print('round '+str(round+1),end='\\r')\n",
    "        monkey_round(dontworry)\n"
   ]
  },
  {
   "cell_type": "code",
   "execution_count": 88,
   "metadata": {},
   "outputs": [
    {
     "name": "stdout",
     "output_type": "stream",
     "text": [
      "round 20\n",
      "\n",
      "The level of monkey business after 20 rounds of stuff-slinging simian shenanigans is: 121450\n"
     ]
    }
   ],
   "source": [
    "monkey_df=readindata()\n",
    "monkey_rounds(20,True)\n",
    "print('\\n')\n",
    "result_a=monkey_df.inspections.nlargest().iloc[0]*monkey_df.inspections.nlargest().iloc[1]\n",
    "print(\"The level of monkey business after 20 rounds of stuff-slinging simian shenanigans is: \"+str(result_a))"
   ]
  },
  {
   "cell_type": "code",
   "execution_count": 89,
   "metadata": {},
   "outputs": [
    {
     "name": "stdout",
     "output_type": "stream",
     "text": [
      "The level of monkey business after 20 rounds of stuff-slinging simian shenanigans is: 28244037010\n"
     ]
    }
   ],
   "source": [
    "monkey_df=readindata()\n",
    "monkey_rounds(10000,False)\n",
    "result_a=monkey_df.inspections.nlargest().iloc[0]*monkey_df.inspections.nlargest().iloc[1]\n",
    "print(\"The level of monkey business after 20 rounds of stuff-slinging simian shenanigans is: \"+str(result_a))"
   ]
  },
  {
   "cell_type": "code",
   "execution_count": null,
   "metadata": {},
   "outputs": [],
   "source": []
  }
 ],
 "metadata": {
  "kernelspec": {
   "display_name": "Python 3",
   "language": "python",
   "name": "python3"
  },
  "language_info": {
   "codemirror_mode": {
    "name": "ipython",
    "version": 3
   },
   "file_extension": ".py",
   "mimetype": "text/x-python",
   "name": "python",
   "nbconvert_exporter": "python",
   "pygments_lexer": "ipython3",
   "version": "3.7.6"
  }
 },
 "nbformat": 4,
 "nbformat_minor": 4
}
