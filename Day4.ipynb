{
 "cells": [
  {
   "cell_type": "code",
   "execution_count": 162,
   "metadata": {},
   "outputs": [
    {
     "name": "stdout",
     "output_type": "stream",
     "text": [
      "One range fully contains the other in 513 assignment pairs\n"
     ]
    }
   ],
   "source": [
    "import pandas as pd\n",
    "from pathlib import Path\n",
    "txt = Path('Input/day4.txt').read_text()\n",
    "list_text=txt.split('\\n')[:-1]\n",
    "list_pairs=[item.split(',') for item in list_text]\n",
    "list_ranges_string=[list_pairs[item][0].split('-')+list_pairs[item][1].split('-')for item,i in enumerate(list_pairs)]\n",
    "\n",
    "def isoverlap(item):\n",
    "    if (int(item[0])<=int(item[2]) and int(item[1])>=int(item[3])) or (int(item[0])>=int(item[2]) and int(item[1])<=int(item[3])):\n",
    "        return True\n",
    "    else:\n",
    "        return False\n",
    "list_overlaps=[isoverlap(list_ranges_string[item]) for item,i in enumerate(list_ranges_string)]\n",
    "result=sum(list_overlaps)\n",
    "print('One range fully contains the other in '+str(result)+' assignment pairs')"
   ]
  },
  {
   "cell_type": "code",
   "execution_count": 163,
   "metadata": {},
   "outputs": [
    {
     "name": "stdout",
     "output_type": "stream",
     "text": [
      "One range partially contains the other in 878 assignment pairs\n"
     ]
    }
   ],
   "source": [
    "def ispartialoverlap(item):\n",
    "    if (int(item[0]) <= int(item[2]) and int(item[2]) <= int(item[1])) \\\n",
    "    or (int(item[0]) <= int(item[3]) and int(item[3]) <= int(item[1])) \\\n",
    "    or (int(item[2]) <= int(item[0]) and int(item[0]) <= int(item[3])) \\\n",
    "    or (int(item[2]) <= int(item[1]) and int(item[1]) <= int(item[3])):\n",
    "        return True\n",
    "    else:\n",
    "        return False\n",
    "list_partialoverlaps=[ispartialoverlap(list_ranges_string[item]) for item,i in enumerate(list_ranges_string)]\n",
    "result2=sum(list_partialoverlaps)\n",
    "print('One range partially contains the other in '+str(result2)+' assignment pairs')"
   ]
  },
  {
   "cell_type": "code",
   "execution_count": null,
   "metadata": {},
   "outputs": [],
   "source": []
  }
 ],
 "metadata": {
  "kernelspec": {
   "display_name": "Python 3",
   "language": "python",
   "name": "python3"
  },
  "language_info": {
   "codemirror_mode": {
    "name": "ipython",
    "version": 3
   },
   "file_extension": ".py",
   "mimetype": "text/x-python",
   "name": "python",
   "nbconvert_exporter": "python",
   "pygments_lexer": "ipython3",
   "version": "3.7.6"
  }
 },
 "nbformat": 4,
 "nbformat_minor": 4
}
