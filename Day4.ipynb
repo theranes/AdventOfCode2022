{
 "cells": [
  {
   "cell_type": "code",
   "execution_count": 151,
   "metadata": {},
   "outputs": [],
   "source": [
    "import pandas as pd\n",
    "from pathlib import Path\n",
    "txt = Path('Input/day4.txt').read_text()\n",
    "list_text=txt.split('\\n')[:-1]"
   ]
  },
  {
   "cell_type": "code",
   "execution_count": 152,
   "metadata": {},
   "outputs": [],
   "source": [
    "list_pairs=[item.split(',') for item in list_text]"
   ]
  },
  {
   "cell_type": "code",
   "execution_count": 153,
   "metadata": {},
   "outputs": [],
   "source": [
    "list_ranges_string=[list_pairs[item][0].split('-')+list_pairs[item][1].split('-')for item,i in enumerate(list_pairs)]"
   ]
  },
  {
   "cell_type": "code",
   "execution_count": 154,
   "metadata": {},
   "outputs": [],
   "source": [
    "def isoverlap(item):\n",
    "    if (int(item[0])<=int(item[2]) and int(item[1])>=int(item[3])) or (int(item[0])>=int(item[2]) and int(item[1])<=int(item[3])):\n",
    "        return True\n",
    "    else:\n",
    "        return False"
   ]
  },
  {
   "cell_type": "code",
   "execution_count": 155,
   "metadata": {},
   "outputs": [],
   "source": [
    "list_overlaps=[isoverlap(list_ranges_string[item]) for item,i in enumerate(list_ranges_string)]"
   ]
  },
  {
   "cell_type": "code",
   "execution_count": 156,
   "metadata": {},
   "outputs": [
    {
     "name": "stdout",
     "output_type": "stream",
     "text": [
      "One range fully contains the other in 513 assignment pairs\n"
     ]
    }
   ],
   "source": [
    "result=sum(list_overlaps)\n",
    "print('One range fully contains the other in '+str(result)+' assignment pairs')"
   ]
  },
  {
   "cell_type": "code",
   "execution_count": 157,
   "metadata": {},
   "outputs": [],
   "source": [
    "def ispartialoverlap(item):\n",
    "    if (int(item[0]) <= int(item[2]) and int(item[2]) <= int(item[1])) \\\n",
    "    or (int(item[0]) <= int(item[3]) and int(item[3]) <= int(item[1])) \\\n",
    "    or (int(item[2]) <= int(item[0]) and int(item[0]) <= int(item[3])) \\\n",
    "    or (int(item[2]) <= int(item[1]) and int(item[1]) <= int(item[3])):\n",
    "        return True\n",
    "    else:\n",
    "        return False"
   ]
  },
  {
   "cell_type": "code",
   "execution_count": 158,
   "metadata": {},
   "outputs": [],
   "source": [
    "list_partialoverlaps=[ispartialoverlap(list_ranges_string[item]) for item,i in enumerate(list_ranges_string)]"
   ]
  },
  {
   "cell_type": "code",
   "execution_count": 159,
   "metadata": {},
   "outputs": [
    {
     "name": "stdout",
     "output_type": "stream",
     "text": [
      "One range partially contains the other in 878 assignment pairs\n"
     ]
    }
   ],
   "source": [
    "result2=sum(list_partialoverlaps)\n",
    "print('One range partially contains the other in '+str(result2)+' assignment pairs ')"
   ]
  }
 ],
 "metadata": {
  "kernelspec": {
   "display_name": "Python 3",
   "language": "python",
   "name": "python3"
  },
  "language_info": {
   "codemirror_mode": {
    "name": "ipython",
    "version": 3
   },
   "file_extension": ".py",
   "mimetype": "text/x-python",
   "name": "python",
   "nbconvert_exporter": "python",
   "pygments_lexer": "ipython3",
   "version": "3.7.6"
  }
 },
 "nbformat": 4,
 "nbformat_minor": 4
}
