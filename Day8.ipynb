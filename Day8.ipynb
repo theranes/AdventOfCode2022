{
 "cells": [
  {
   "cell_type": "code",
   "execution_count": 397,
   "metadata": {},
   "outputs": [
    {
     "name": "stdout",
     "output_type": "stream",
     "text": [
      "The number of visible trees is: 1820.0\n"
     ]
    }
   ],
   "source": [
    "from pathlib import Path\n",
    "txt = Path('Input/day8.txt').read_text().split('\\n')[:-1]\n",
    "trees=[[i for i in row] for row in txt]\n",
    "import numpy as np\n",
    "trees=np.array(trees).astype(np.int)\n",
    "def isvisible(row,col,suppressalerts):\n",
    "    north_look=trees[:row,col]\n",
    "    south_look=trees[row+1:,col]\n",
    "    west_look=trees[row,:col]\n",
    "    east_look=trees[row,col+1:]\n",
    "    north_visible=len(north_look[north_look>=trees[row,col]])==0\n",
    "    south_visible=len(south_look[south_look>=trees[row,col]])==0\n",
    "    west_visible=len(west_look[west_look>=trees[row,col]])==0\n",
    "    east_visible=len(east_look[east_look>=trees[row,col]])==0\n",
    "    if not suppressalerts:\n",
    "        print(\"tree \"+str(row)+\",\"+str(col)+\" visibilities (height=+\"+str(trees[row,col])+\"): N:\"+str(north_visible)+\" S:\"+str(south_visible)+\" W: \"+str(west_visible)+\" E: \"+str(east_visible))\n",
    "    return north_visible+south_visible+west_visible+east_visible>0\n",
    "visibility=np.zeros((trees.shape[0],trees.shape[1]))\n",
    "for row in range(trees.shape[0]):\n",
    "    for col in range(trees.shape[1]):\n",
    "        visibility[row,col]=isvisible(row,col,True)\n",
    "result_a=sum(sum(visibility))\n",
    "print('The number of visible trees is: '+str(result_a))"
   ]
  },
  {
   "cell_type": "code",
   "execution_count": 398,
   "metadata": {},
   "outputs": [
    {
     "name": "stdout",
     "output_type": "stream",
     "text": [
      "The highest possible scenery score is: 385112.0\n"
     ]
    }
   ],
   "source": [
    "def scenicscore(row,col,suppressalerts):\n",
    "    north_look=trees[:row,col]\n",
    "    south_look=trees[row+1:,col]\n",
    "    west_look=trees[row,:col]\n",
    "    east_look=trees[row,col+1:]\n",
    "    try:\n",
    "        north_score=np.where(np.flip(north_look)>=trees[row,col])[0][0]+1\n",
    "    except IndexError:\n",
    "        north_score=len(north_look)\n",
    "    try:\n",
    "        south_score=np.where(south_look>=trees[row,col])[0][0]+1\n",
    "    except IndexError:\n",
    "        south_score=len(south_look)\n",
    "    try:\n",
    "        west_score=np.where(np.flip(west_look)>=trees[row,col])[0][0]+1\n",
    "    except IndexError:\n",
    "        west_score=len(west_look)\n",
    "    try:\n",
    "        east_score=np.where(east_look>=trees[row,col])[0][0]+1\n",
    "    except IndexError:\n",
    "        east_score=len(east_look)\n",
    "    if not suppressalerts:\n",
    "        print(\"tree \"+str(row)+\",\"+str(col)+\" visibility scores (height=+\"+str(trees[row,col])+\"): N:\"+str(north_score)+\" S:\"+str(south_score)+\" W: \"+str(west_score)+\" E: \"+str(east_score))\n",
    "    return north_score*south_score*west_score*east_score\n",
    "scenery=np.zeros((trees.shape[0],trees.shape[1]))\n",
    "for row in range(trees.shape[0]):\n",
    "    for col in range(trees.shape[1]):\n",
    "        scenery[row,col]=scenicscore(row,col,True)\n",
    "result_b=np.amax(scenery)\n",
    "print('The highest possible scenery score is: '+str(result_b))"
   ]
  },
  {
   "cell_type": "code",
   "execution_count": null,
   "metadata": {},
   "outputs": [],
   "source": []
  }
 ],
 "metadata": {
  "kernelspec": {
   "display_name": "Python 3",
   "language": "python",
   "name": "python3"
  },
  "language_info": {
   "codemirror_mode": {
    "name": "ipython",
    "version": 3
   },
   "file_extension": ".py",
   "mimetype": "text/x-python",
   "name": "python",
   "nbconvert_exporter": "python",
   "pygments_lexer": "ipython3",
   "version": "3.7.6"
  }
 },
 "nbformat": 4,
 "nbformat_minor": 4
}
