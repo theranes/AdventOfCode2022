{
 "cells": [
  {
   "cell_type": "code",
   "execution_count": 39,
   "metadata": {},
   "outputs": [
    {
     "name": "stdout",
     "output_type": "stream",
     "text": [
      "My total score if everything goes exactly according to the strategy guide would be: 15572\n"
     ]
    }
   ],
   "source": [
    "import pandas as pd\n",
    "from pathlib import Path\n",
    "txt = Path('Input/day2.txt').read_text()\n",
    "list_text=txt.split('\\n')[:-1]\n",
    "opponent_list=[item[0] for item in list_text]\n",
    "response_list=[item[2] for item in list_text]\n",
    "tournament_df=pd.DataFrame(dict(zip(['opponents','responses'],[opponent_list,response_list])))\n",
    "score_df=pd.DataFrame([[4,8,3],[1,5,9],[7,2,6]],columns=['X','Y','Z'],index=['A','B','C'])  \n",
    "tournament_df['scores']=[score_df.loc[tournament_df.iloc[i[0],0],tournament_df.iloc[i[0],1]] for i in tournament_df.iterrows()]\n",
    "result=sum(tournament_df['scores'])\n",
    "print('My total score if everything goes exactly according to the strategy guide would be: '+str(result))"
   ]
  },
  {
   "cell_type": "code",
   "execution_count": 36,
   "metadata": {},
   "outputs": [
    {
     "data": {
      "text/plain": [
       "15572"
      ]
     },
     "execution_count": 36,
     "metadata": {},
     "output_type": "execute_result"
    }
   ],
   "source": []
  },
  {
   "cell_type": "code",
   "execution_count": null,
   "metadata": {},
   "outputs": [],
   "source": []
  }
 ],
 "metadata": {
  "kernelspec": {
   "display_name": "Python 3",
   "language": "python",
   "name": "python3"
  },
  "language_info": {
   "codemirror_mode": {
    "name": "ipython",
    "version": 3
   },
   "file_extension": ".py",
   "mimetype": "text/x-python",
   "name": "python",
   "nbconvert_exporter": "python",
   "pygments_lexer": "ipython3",
   "version": "3.7.6"
  }
 },
 "nbformat": 4,
 "nbformat_minor": 4
}
