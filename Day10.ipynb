{
 "cells": [
  {
   "cell_type": "code",
   "execution_count": 13,
   "metadata": {},
   "outputs": [
    {
     "name": "stdout",
     "output_type": "stream",
     "text": [
      "The sum of the six signal strengths of interest is: 13140\n",
      "##..##..##..##..##..##..##..##..##..##.. 0\n",
      "###...###...###...###...###...###...###. 40\n",
      "####....####....####....####....####.... 80\n",
      "#####.....#####.....#####.....#####..... 120\n",
      "######......######......######......#### 160\n",
      "#######.......#######.......#######..... 200\n"
     ]
    }
   ],
   "source": [
    "from pathlib import Path\n",
    "signalcommands = Path('Input/day10_test2.txt').read_text().split('\\n')[:-1]\n",
    "X=1\n",
    "cycle_counter=0\n",
    "command_counter=0\n",
    "signal_register=[]\n",
    "sprite_lb=-2\n",
    "sprite_ub=0\n",
    "CRT=['.' for x in range(240)]\n",
    "while command_counter < len(signalcommands):\n",
    "    command=signalcommands[command_counter]\n",
    "    if command=='noop':\n",
    "        signal_register.append(X)\n",
    "        sprite_lb+=1\n",
    "        sprite_ub+=1\n",
    "        if sprite_ub>40:\n",
    "            sprite_ub-=40\n",
    "        if sprite_lb>38:\n",
    "            sprite_lb-=40\n",
    "        if sprite_lb<=X<=sprite_ub:\n",
    "            CRT[cycle_counter]='#'\n",
    "        cycle_counter+=1\n",
    "        command_counter+=1\n",
    "    if command[:4]=='addx':\n",
    "        signal_register.append(X)\n",
    "        sprite_lb+=1\n",
    "        sprite_ub+=1\n",
    "        if sprite_ub>40:\n",
    "            sprite_ub-=40\n",
    "        if sprite_lb>38:\n",
    "            sprite_lb-=40\n",
    "        if sprite_lb<=X<=sprite_ub:\n",
    "            CRT[cycle_counter]='#'\n",
    "        cycle_counter+=1\n",
    "        signal_register.append(X)\n",
    "        sprite_lb+=1\n",
    "        sprite_ub+=1\n",
    "        if sprite_ub>40:\n",
    "            sprite_ub-=40\n",
    "        if sprite_lb>38:\n",
    "            sprite_lb-=40\n",
    "        if sprite_lb<=X<=sprite_ub:\n",
    "            CRT[cycle_counter]='#'\n",
    "        X+=int(command[5:])\n",
    "        cycle_counter+=1\n",
    "        command_counter+=1\n",
    "signal_multipliers=[x+1 for x in range(len(signal_register))]\n",
    "signal_strengths=[x*y for x,y in zip(signal_register,signal_multipliers)]\n",
    "signal_strengths_of_interest=[signal_strengths[40*(x)+19] for x in range(6)]\n",
    "signal_register_of_interest=[signal_register[40*(x)+19] for x in range(6)]\n",
    "#signal_ids_of_interest=[print(40*(x)+20) for x in range(6)]\n",
    "result=sum(signal_strengths_of_interest)\n",
    "print('The sum of the six signal strengths of interest is: '+str(result))\n",
    "for row in range(6):\n",
    "    print(''.join([x for x in CRT[(row)*40:(row+1)*40]])+' '+str((row)*40))"
   ]
  },
  {
   "cell_type": "code",
   "execution_count": 141,
   "metadata": {},
   "outputs": [
    {
     "data": {
      "text/plain": [
       "'#'"
      ]
     },
     "execution_count": 141,
     "metadata": {},
     "output_type": "execute_result"
    }
   ],
   "source": [
    "CRT[41]"
   ]
  },
  {
   "cell_type": "code",
   "execution_count": 136,
   "metadata": {},
   "outputs": [
    {
     "data": {
      "text/plain": [
       "1"
      ]
     },
     "execution_count": 136,
     "metadata": {},
     "output_type": "execute_result"
    }
   ],
   "source": [
    "41%40"
   ]
  },
  {
   "cell_type": "code",
   "execution_count": 161,
   "metadata": {},
   "outputs": [
    {
     "data": {
      "text/plain": [
       "39"
      ]
     },
     "execution_count": 161,
     "metadata": {},
     "output_type": "execute_result"
    }
   ],
   "source": [
    "-1%40"
   ]
  },
  {
   "cell_type": "code",
   "execution_count": null,
   "metadata": {},
   "outputs": [],
   "source": []
  }
 ],
 "metadata": {
  "kernelspec": {
   "display_name": "Python 3",
   "language": "python",
   "name": "python3"
  },
  "language_info": {
   "codemirror_mode": {
    "name": "ipython",
    "version": 3
   },
   "file_extension": ".py",
   "mimetype": "text/x-python",
   "name": "python",
   "nbconvert_exporter": "python",
   "pygments_lexer": "ipython3",
   "version": "3.7.6"
  }
 },
 "nbformat": 4,
 "nbformat_minor": 4
}
