{
 "cells": [
  {
   "cell_type": "code",
   "execution_count": 257,
   "metadata": {},
   "outputs": [
    {
     "name": "stdout",
     "output_type": "stream",
     "text": [
      "The sum of folder sizes for folders below a size of 1000000 is: 1453349\n"
     ]
    }
   ],
   "source": [
    "from pathlib import Path\n",
    "txt = Path('Input/day7.txt').read_text().split('\\n')[:-1]\n",
    "currentpath=''\n",
    "currentfoldercontents=''\n",
    "filestructure={}\n",
    "for i,line in enumerate(txt):\n",
    "    if line[:4]=='$ cd':\n",
    "        if line[:6]=='$ cd /':\n",
    "            currentpath='/'\n",
    "        elif line[:7]=='$ cd ..':\n",
    "            currentpath=currentpath[:currentpath[:-1].rfind('/')]+\"/\"\n",
    "        else:\n",
    "            currentpath+=line[5:]+'/'\n",
    "    if line[:4]=='$ ls':\n",
    "        fend=i\n",
    "        fend+=1\n",
    "        while (txt[fend][:1]!='$') and fend<len(txt)-1:\n",
    "            fend+=1\n",
    "        if fend==len(txt)-1:\n",
    "            currentfoldercontents=txt[i+1:fend+1]\n",
    "        else:\n",
    "            currentfoldercontents=txt[i+1:fend]\n",
    "        filestructure[currentpath]=currentfoldercontents\n",
    "size=0\n",
    "def getfoldersize(key):\n",
    "    size=0\n",
    "    for item in filestructure[key]:\n",
    "        if item[:3]=='dir':\n",
    "            size+=getfoldersize(key+item[4:]+\"/\")\n",
    "        else:\n",
    "            size+=int(item[:item.find(' ')])\n",
    "    return size\n",
    "\n",
    "foldersizes=[getfoldersize(folder) for folder in filestructure]   \n",
    "result_a=sum(list(filter(lambda size: size <= 100000, foldersizes)))\n",
    "print('The sum of folder sizes for folders below a size of 1000000 is: '+str(result_a))"
   ]
  },
  {
   "cell_type": "code",
   "execution_count": 258,
   "metadata": {},
   "outputs": [
    {
     "name": "stdout",
     "output_type": "stream",
     "text": [
      "The size of the smallest directory that, if deleted, would free up enough space on the filesystem to run the update is: 2948823\n"
     ]
    }
   ],
   "source": [
    "space_used=getfoldersize('/')\n",
    "space_total=70000000\n",
    "space_available=space_total-space_used\n",
    "space_needed=30000000\n",
    "eligible_deletition=list(filter(lambda size: size>=space_needed-space_available, foldersizes))\n",
    "result_b=min(eligible_deletition)\n",
    "print('The size of the smallest directory that, if deleted, would free up enough space on the filesystem to run the update is: '+str(result_b))"
   ]
  },
  {
   "cell_type": "code",
   "execution_count": null,
   "metadata": {},
   "outputs": [],
   "source": []
  }
 ],
 "metadata": {
  "kernelspec": {
   "display_name": "Python 3",
   "language": "python",
   "name": "python3"
  },
  "language_info": {
   "codemirror_mode": {
    "name": "ipython",
    "version": 3
   },
   "file_extension": ".py",
   "mimetype": "text/x-python",
   "name": "python",
   "nbconvert_exporter": "python",
   "pygments_lexer": "ipython3",
   "version": "3.7.6"
  }
 },
 "nbformat": 4,
 "nbformat_minor": 4
}
