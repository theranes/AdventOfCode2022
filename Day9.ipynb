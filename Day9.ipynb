{
 "cells": [
  {
   "cell_type": "code",
   "execution_count": 26,
   "metadata": {},
   "outputs": [
    {
     "name": "stdout",
     "output_type": "stream",
     "text": [
      "The number of positions that the 1-long rope tail visits at least once is: 6044\n"
     ]
    }
   ],
   "source": [
    "from pathlib import Path\n",
    "import pandas as pd\n",
    "import numpy as np\n",
    "instructions = Path('Input/day9.txt').read_text().split('\\n')[:-1]\n",
    "rope_dict={'x':[0.0 for x in range(10)],'y':[0.0 for x in range(10)]}\n",
    "rope=pd.DataFrame.from_dict(rope_dict)\n",
    "tail_locations={''}\n",
    "def calculate_tail_location(x,y,index,showalerts):\n",
    "    x_rel=rope.x[index]-rope.x[index+1]\n",
    "    y_rel=rope.y[index]-rope.y[index+1]\n",
    "    x_del=(max(abs(x_rel),abs(y_rel))-1)*np.sign(x_rel)\n",
    "    y_del=(max(abs(x_rel),abs(y_rel))-1)*np.sign(y_rel)\n",
    "    rope.x[index+1]+=x_del\n",
    "    rope.y[index+1]+=y_del\n",
    "    if showalerts:\n",
    "        print(str(x_rel)+','+str(y_rel)+'>'+str(x_del)+','+str(y_del))\n",
    "\n",
    "def perform_movement(inst,showalerts,length):\n",
    "    direction=inst[:1]\n",
    "    moves=int(inst[2:])\n",
    "    for move in range(moves):\n",
    "        if showalerts:\n",
    "            print(direction+str(move+1)+\"/\"+str(moves))\n",
    "        for index in range(length):\n",
    "            if showalerts:\n",
    "                print('element '+str(index)+' before move:'+str(rope.iloc[index,:].tolist()))\n",
    "                print('element '+str(index+1)+' before move:'+str(rope.iloc[index+1,:].tolist()))\n",
    "                print('')\n",
    "            if index==0:\n",
    "                if direction=='U':\n",
    "                    rope.y[index]+=1\n",
    "                elif direction=='D':\n",
    "                    rope.y[index]-=1\n",
    "                elif direction=='R':\n",
    "                    rope.x[index]+=1\n",
    "                elif direction=='L':\n",
    "                    rope.x[index]-=1\n",
    "            calculate_tail_location(rope.x[index],rope.y[index],index,showalerts)\n",
    "            tail_locations.add(str(rope.iloc[length,:].tolist()))\n",
    "            if showalerts:\n",
    "                print('head after move:'+str(rope.iloc[index,:].tolist()))\n",
    "                print('tail after move:'+str(rope.iloc[index+1,:].tolist()))\n",
    "                print('')\n",
    "for instruction in instructions:\n",
    "     perform_movement(instruction,False,1)\n",
    "result_a=len(tail_locations)-1\n",
    "print('The number of positions that the 1-long rope tail visits at least once is: '+str(result_a))"
   ]
  },
  {
   "cell_type": "code",
   "execution_count": 27,
   "metadata": {},
   "outputs": [
    {
     "name": "stdout",
     "output_type": "stream",
     "text": [
      "The number of positions that the 10-long rope tail visits at least once is: 2384\n"
     ]
    }
   ],
   "source": [
    "tail_locations={''}\n",
    "rope=pd.DataFrame.from_dict(rope_dict)\n",
    "for instruction in instructions:\n",
    "    perform_movement(instruction,False,9)\n",
    "result_b=len(tail_locations)-1\n",
    "print('The number of positions that the 10-long rope tail visits at least once is: '+str(result_b))"
   ]
  },
  {
   "cell_type": "code",
   "execution_count": null,
   "metadata": {},
   "outputs": [],
   "source": []
  }
 ],
 "metadata": {
  "kernelspec": {
   "display_name": "Python 3",
   "language": "python",
   "name": "python3"
  },
  "language_info": {
   "codemirror_mode": {
    "name": "ipython",
    "version": 3
   },
   "file_extension": ".py",
   "mimetype": "text/x-python",
   "name": "python",
   "nbconvert_exporter": "python",
   "pygments_lexer": "ipython3",
   "version": "3.7.6"
  }
 },
 "nbformat": 4,
 "nbformat_minor": 4
}
