{
 "cells": [
  {
   "cell_type": "code",
   "execution_count": 44,
   "metadata": {},
   "outputs": [
    {
     "name": "stdout",
     "output_type": "stream",
     "text": [
      "The first package start marker occurs at 1623\n",
      "The first message start marker occurs at 3774\n"
     ]
    }
   ],
   "source": [
    "from pathlib import Path\n",
    "txt = Path('Input/day6.txt').read_text().replace('[','')\n",
    "def isstartofpacket(substring):\n",
    "    return len(set(substring))==4\n",
    "sub=txt[0:4]\n",
    "i=0\n",
    "while isstartofpacket(sub)==False:\n",
    "    sub=txt[i:i+4]\n",
    "    i=i+1\n",
    "print('The first package start marker occurs at '+str(i+3))\n",
    "\n",
    "def isstartofmessage(substring):\n",
    "    return len(set(substring))==14\n",
    "sub=txt[0:14]\n",
    "i=0\n",
    "while isstartofmessage(sub)==False:\n",
    "    sub=txt[i:i+14]\n",
    "    i=i+1\n",
    "print('The first message start marker occurs at '+str(i+13))"
   ]
  },
  {
   "cell_type": "code",
   "execution_count": null,
   "metadata": {},
   "outputs": [],
   "source": []
  }
 ],
 "metadata": {
  "kernelspec": {
   "display_name": "Python 3",
   "language": "python",
   "name": "python3"
  },
  "language_info": {
   "codemirror_mode": {
    "name": "ipython",
    "version": 3
   },
   "file_extension": ".py",
   "mimetype": "text/x-python",
   "name": "python",
   "nbconvert_exporter": "python",
   "pygments_lexer": "ipython3",
   "version": "3.7.6"
  }
 },
 "nbformat": 4,
 "nbformat_minor": 4
}
